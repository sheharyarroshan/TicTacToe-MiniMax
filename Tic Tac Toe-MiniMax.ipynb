{
  "cells": [
    {
      "cell_type": "code",
      "execution_count": 1,
      "metadata": {
        "id": "7e9b03c6"
      },
      "outputs": [],
      "source": [
        "#Min-Max Algorithm\n",
        "from math import inf as infinity\n",
        "from random import choice\n",
        "import platform\n",
        "import numpy as np\n",
        "from os import system"
      ],
      "id": "7e9b03c6"
    },
    {
      "cell_type": "code",
      "execution_count": 2,
      "metadata": {
        "id": "28c379ab"
      },
      "outputs": [],
      "source": [
        "human = 'O'\n",
        "computer = 'X'\n",
        "draw = 0"
      ],
      "id": "28c379ab"
    },
    {
      "cell_type": "code",
      "execution_count": 3,
      "metadata": {
        "id": "735a8f31"
      },
      "outputs": [],
      "source": [
        "#Initialize empty board\n",
        "board = {1: ' ', 2: ' ', 3: ' ',\n",
        "         4: ' ', 5: ' ', 6: ' ',\n",
        "         7: ' ', 8: ' ', 9: ' '}"
      ],
      "id": "735a8f31"
    },
    {
      "cell_type": "code",
      "execution_count": 4,
      "metadata": {
        "id": "3SO6dAvsmtD2"
      },
      "outputs": [],
      "source": [
        "#printing board\n",
        "def printBoard(board):\n",
        "    print(board[1] + \"|\" + board[2] + \"|\" + board[3])\n",
        "    print(\"-+-+-\")\n",
        "    print(board[4] + \"|\" + board[5] + \"|\" + board[6])\n",
        "    print(\"-+-+-\")\n",
        "    print(board[7] + \"|\" + board[8] + \"|\" + board[9])\n",
        "    print(\"\\n\")"
      ],
      "id": "3SO6dAvsmtD2"
    },
    {
      "cell_type": "code",
      "execution_count": 5,
      "metadata": {
        "id": "3d6796cd"
      },
      "outputs": [],
      "source": [
        "def IsFreePosition(position):\n",
        "    if board[position] == ' ': #checking if space is present in board and no mark is present\n",
        "        return True \n",
        "    return False \n",
        "\n",
        "def insertSymbol(Symbol, position): #inserting symbol on board if position is available\n",
        "    if IsFreePosition(position):\n",
        "        board[position] = Symbol \n",
        "        printBoard(board)\n",
        "        if checkDraw():\n",
        "            print(\"Draw!\")\n",
        "            exit() \n",
        "        if checkWin():\n",
        "            if Symbol == 'X':\n",
        "                print(\"Computer wins!\")\n",
        "                exit()\n",
        "            else:\n",
        "                print(\"Human wins!\")\n",
        "                exit()\n",
        "        return \n",
        "    else:\n",
        "        #checking valid position\n",
        "        print(\"Invalid position\")\n",
        "        position = int(input(\"Please enter a new position: \"))\n",
        "        insertSymbol(Symbol, position)\n",
        "        return    \n",
        "\n",
        "\n",
        "\n",
        "def checkWin():\n",
        "    #checking all 8 posibility\n",
        "\n",
        "    if (board[1] == board[2] and board[1] == board[3] and board[1] != ' '):\n",
        "        return True\n",
        "    elif (board[4] == board[5] and board[4] == board[6] and board[4] != ' '):\n",
        "        return True\n",
        "    elif (board[7] == board[8] and board[7] == board[9] and board[7] != ' '):\n",
        "        return True\n",
        "    elif (board[1] == board[4] and board[1] == board[7] and board[1] != ' '):\n",
        "        return True\n",
        "    elif (board[2] == board[5] and board[2] == board[8] and board[2] != ' '):\n",
        "        return True\n",
        "    elif (board[3] == board[6] and board[3] == board[9] and board[3] != ' '):\n",
        "        return True\n",
        "    elif (board[1] == board[5] and board[1] == board[9] and board[1] != ' '):\n",
        "        return True\n",
        "    elif (board[7] == board[5] and board[7] == board[3] and board[7] != ' '):\n",
        "        return True\n",
        "    else:\n",
        "        return False\n",
        "\n",
        "def checkSymbolWon(Symbol):\n",
        "   #checking which player by checking board position\n",
        "    if (board[1] == board[2] and board[1] == board[3] and board[1] == Symbol):\n",
        "        return True\n",
        "    elif (board[4] == board[5] and board[4] == board[6] and board[4] == Symbol):\n",
        "        return True\n",
        "    elif (board[7] == board[8] and board[7] == board[9] and board[7] == Symbol):\n",
        "        return True\n",
        "    elif (board[1] == board[4] and board[1] == board[7] and board[1] == Symbol):\n",
        "        return True\n",
        "    elif (board[2] == board[5] and board[2] == board[8] and board[2] == Symbol):\n",
        "        return True\n",
        "    elif (board[3] == board[6] and board[3] == board[9] and board[3] == Symbol):\n",
        "        return True\n",
        "    elif (board[1] == board[5] and board[1] == board[9] and board[1] == Symbol):\n",
        "        return True\n",
        "    elif (board[7] == board[5] and board[7] == board[3] and board[7] == Symbol):\n",
        "        return True\n",
        "    else:\n",
        "        return False\n",
        "\n",
        "def checkDraw():\n",
        "    for key in board.keys():\n",
        "        if board[key] == ' ':\n",
        "            return False \n",
        "    return True \n",
        "\n",
        "def HumanMove():\n",
        "    position = int(input(\"Enter a position for 'O' (1-9): \"))\n",
        "    insertSymbol(human, position)\n",
        "    return \n",
        "\n",
        "def ComputerMove():\n",
        "    bestScore = -800\n",
        "    bestMove = 0\n",
        "    for key in board.keys():\n",
        "        if board[key] == ' ':\n",
        "            board[key] = computer\n",
        "            score = minimax(board, False)\n",
        "            board[key] = ' '\n",
        "            if score > bestScore:\n",
        "                bestScore = score \n",
        "                bestMove = key\n",
        "    insertSymbol(computer, bestMove)\n",
        "    return "
      ],
      "id": "3d6796cd"
    },
    {
      "cell_type": "code",
      "execution_count": 6,
      "metadata": {
        "id": "XPwGhI8anau1"
      },
      "outputs": [],
      "source": [
        "def minimax(board, isMaximizing):\n",
        "    if checkSymbolWon(computer):\n",
        "        return 1 #if computer -1\n",
        "    elif checkSymbolWon(human):\n",
        "        return -1 #if human 1\n",
        "    elif checkDraw():\n",
        "        return 0 #draw 0\n",
        "        \n",
        "    if isMaximizing:\n",
        "        bestScore = -800 \n",
        "        for key in board.keys():\n",
        "            if board[key] == ' ':\n",
        "                board[key] = computer \n",
        "                score = minimax(board, False)\n",
        "                board[key] = ' '\n",
        "                if score > bestScore:\n",
        "                    bestScore = score\n",
        "        return bestScore \n",
        "    else:\n",
        "        bestScore = 800 \n",
        "        for key in board.keys():\n",
        "            if board[key] == ' ':\n",
        "                board[key] = human \n",
        "                score = minimax(board, True)\n",
        "                board[key] = ' '\n",
        "                if score < bestScore:\n",
        "                    bestScore = score \n",
        "        return bestScore"
      ],
      "id": "XPwGhI8anau1"
    },
    {
      "cell_type": "code",
      "execution_count": null,
      "metadata": {
        "colab": {
          "base_uri": "https://localhost:8080/"
        },
        "id": "a62e3e77",
        "outputId": "7828b8da-bf2b-4dce-8b6b-618be24d69bc"
      },
      "outputs": [
        {
          "output_type": "stream",
          "name": "stdout",
          "text": [
            "X| | \n",
            "-+-+-\n",
            " | | \n",
            "-+-+-\n",
            " | | \n",
            "\n",
            "\n",
            "Enter a position for 'O' (1-9): 2\n",
            "X|O| \n",
            "-+-+-\n",
            " | | \n",
            "-+-+-\n",
            " | | \n",
            "\n",
            "\n",
            "X|O| \n",
            "-+-+-\n",
            "X| | \n",
            "-+-+-\n",
            " | | \n",
            "\n",
            "\n",
            "Enter a position for 'O' (1-9): 7\n",
            "X|O| \n",
            "-+-+-\n",
            "X| | \n",
            "-+-+-\n",
            "O| | \n",
            "\n",
            "\n",
            "X|O| \n",
            "-+-+-\n",
            "X|X| \n",
            "-+-+-\n",
            "O| | \n",
            "\n",
            "\n",
            "Enter a position for 'O' (1-9): 6\n",
            "X|O| \n",
            "-+-+-\n",
            "X|X|O\n",
            "-+-+-\n",
            "O| | \n",
            "\n",
            "\n",
            "X|O| \n",
            "-+-+-\n",
            "X|X|O\n",
            "-+-+-\n",
            "O| |X\n",
            "\n",
            "\n",
            "Computer wins!\n"
          ]
        }
      ],
      "source": [
        "while not checkWin():\n",
        "    ComputerMove()\n",
        "    HumanMove()\n",
        "\n",
        "\n"
      ],
      "id": "a62e3e77"
    }
  ],
  "metadata": {
    "colab": {
      "collapsed_sections": [],
      "provenance": []
    },
    "kernelspec": {
      "display_name": "Python 3",
      "language": "python",
      "name": "python3"
    },
    "language_info": {
      "codemirror_mode": {
        "name": "ipython",
        "version": 3
      },
      "file_extension": ".py",
      "mimetype": "text/x-python",
      "name": "python",
      "nbconvert_exporter": "python",
      "pygments_lexer": "ipython3",
      "version": "3.8.8"
    }
  },
  "nbformat": 4,
  "nbformat_minor": 5
}